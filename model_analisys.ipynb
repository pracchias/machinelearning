{
 "cells": [
  {
   "cell_type": "code",
   "execution_count": 22,
   "metadata": {},
   "outputs": [],
   "source": [
    "#!/usr/bin/env python\n",
    "# -*- coding: UTF-8 -*-\n",
    "\n",
    "# Notebook baseado no código do artigo abaixo.\n",
    "# -> How To Compare Machine Learning Algorithms in Python with scikit-learn. Disponível em <https://machinelearningmastery.com/compare-machine-learning-algorithms-python-scikit-learn/> \n",
    "\n",
    "import numpy as np;\n",
    "import pandas as pd;\n",
    "import matplotlib.pyplot as plt\n",
    "\n",
    "from sklearn import model_selection\n",
    "from sklearn.neural_network import MLPClassifier\n",
    "from sklearn.linear_model import LogisticRegression\n",
    "from sklearn.tree import DecisionTreeClassifier\n",
    "from sklearn.neighbors import KNeighborsClassifier\n",
    "from sklearn.svm import SVC\n",
    "\n",
    "\n",
    "\n",
    "RANDOM_SEED = 146\n",
    "SAMPLE_SIZE = 0.8\n",
    "ITERACOES = 100"
   ]
  },
  {
   "cell_type": "code",
   "execution_count": 18,
   "metadata": {},
   "outputs": [],
   "source": [
    "# Carregando a base\n",
    "INPUT_FILE = \"../../the_base.csv\";\n",
    "SEPARATOR = \";\"\n",
    "DECIMAL = \",\"\n",
    "\n",
    "loaded_base = pd.read_csv(INPUT_FILE, sep=SEPARATOR,\n",
    "                header=0, decimal=DECIMAL)\n",
    "\n",
    "# Dividindo nossa base entre atributos (model) e classes.\n",
    "attributes = loaded_base.drop(['FilmeId', 'Classe'], axis=1)\n",
    "classes = loaded_base['Classe']"
   ]
  },
  {
   "cell_type": "code",
   "execution_count": 19,
   "metadata": {},
   "outputs": [],
   "source": [
    "# Preparando modelos\n",
    "models = []\n",
    "models.append((\"MLP\", MLPClassifier(solver=\"lbfgs\")))\n",
    "models.append((\"LR\", LogisticRegression(solver=\"liblinear\")))\n",
    "models.append((\"KNN\", KNeighborsClassifier()))\n",
    "models.append((\"TREE\", DecisionTreeClassifier()))\n",
    "models.append((\"SVM\", SVC(gamma=\"auto\")))"
   ]
  },
  {
   "cell_type": "code",
   "execution_count": 20,
   "metadata": {},
   "outputs": [],
   "source": [
    "# Obtendo amostra\n",
    "x_train, x_test, y_train, y_test =  model_selection.train_test_split(\n",
    "                                                attributes, \n",
    "                                                classes, \n",
    "                                                test_size=SAMPLE_SIZE, \n",
    "                                                random_state=RANDOM_SEED);\n",
    "              "
   ]
  },
  {
   "cell_type": "code",
   "execution_count": 21,
   "metadata": {},
   "outputs": [],
   "source": [
    "# Comparando modelos\n",
    "def getResults(verbose=True, seed=RANDOM_SEED):\n",
    "    results = []\n",
    "    names = []\n",
    "    scoring = 'balanced_accuracy'\n",
    "    if(verbose):\n",
    "        print(\"%s\\t%s\\t\\t%s\" % (\"Modelo\",\"Média\", \"STD\"))\n",
    "    for name, model in models:\n",
    "        kfold = model_selection.KFold(n_splits=10, random_state=seed)\n",
    "        cv_results = model_selection.cross_val_score(model, x_train, y_train, cv=kfold, scoring=scoring)\n",
    "        results.append(cv_results)\n",
    "        names.append(name)\n",
    "        if(verbose):\n",
    "            print(\"%s\\t%f\\t%f\" % (name, cv_results.mean(), cv_results.std()))\n",
    "    return results, names;\n",
    "    "
   ]
  },
  {
   "cell_type": "code",
   "execution_count": 23,
   "metadata": {},
   "outputs": [
    {
     "name": "stdout",
     "output_type": "stream",
     "text": [
      "Iteração 1\n",
      "Iteração 2\n",
      "Iteração 3\n",
      "Iteração 4\n",
      "Iteração 5\n",
      "Iteração 6\n",
      "Iteração 7\n",
      "Iteração 8\n",
      "Iteração 9\n",
      "Iteração 10\n",
      "Iteração 11\n",
      "Iteração 12\n",
      "Iteração 13\n",
      "Iteração 14\n",
      "Iteração 15\n",
      "Iteração 16\n",
      "Iteração 17\n",
      "Iteração 18\n",
      "Iteração 19\n",
      "Iteração 20\n",
      "Iteração 21\n",
      "Iteração 22\n",
      "Iteração 23\n",
      "Iteração 24\n",
      "Iteração 25\n",
      "Iteração 26\n",
      "Iteração 27\n",
      "Iteração 28\n",
      "Iteração 29\n",
      "Iteração 30\n",
      "Iteração 31\n",
      "Iteração 32\n",
      "Iteração 33\n",
      "Iteração 34\n",
      "Iteração 35\n",
      "Iteração 36\n",
      "Iteração 37\n",
      "Iteração 38\n",
      "Iteração 39\n",
      "Iteração 40\n",
      "Iteração 41\n",
      "Iteração 42\n",
      "Iteração 43\n",
      "Iteração 44\n",
      "Iteração 45\n",
      "Iteração 46\n",
      "Iteração 47\n",
      "Iteração 48\n",
      "Iteração 49\n",
      "Iteração 50\n",
      "Iteração 51\n",
      "Iteração 52\n",
      "Iteração 53\n",
      "Iteração 54\n",
      "Iteração 55\n",
      "Iteração 56\n",
      "Iteração 57\n",
      "Iteração 58\n",
      "Iteração 59\n",
      "Iteração 60\n",
      "Iteração 61\n",
      "Iteração 62\n",
      "Iteração 63\n",
      "Iteração 64\n",
      "Iteração 65\n",
      "Iteração 66\n",
      "Iteração 67\n",
      "Iteração 68\n",
      "Iteração 69\n",
      "Iteração 70\n",
      "Iteração 71\n",
      "Iteração 72\n",
      "Iteração 73\n",
      "Iteração 74\n",
      "Iteração 75\n",
      "Iteração 76\n",
      "Iteração 77\n",
      "Iteração 78\n",
      "Iteração 79\n",
      "Iteração 80\n",
      "Iteração 81\n",
      "Iteração 82\n",
      "Iteração 83\n",
      "Iteração 84\n",
      "Iteração 85\n",
      "Iteração 86\n",
      "Iteração 87\n",
      "Iteração 88\n",
      "Iteração 89\n",
      "Iteração 90\n",
      "Iteração 91\n",
      "Iteração 92\n",
      "Iteração 93\n",
      "Iteração 94\n",
      "Iteração 95\n",
      "Iteração 96\n",
      "Iteração 97\n",
      "Iteração 98\n",
      "Iteração 99\n",
      "Iteração 100\n"
     ]
    }
   ],
   "source": [
    "# Executando ITERAÇÕES.\n",
    "results = list()\n",
    "for i in range(ITERACOES):\n",
    "    print(f\"Iteração {i+1}\")\n",
    "    result, names = getResults(verbose=False, seed=i)\n",
    "    results.append((result,names))\n"
   ]
  },
  {
   "cell_type": "code",
   "execution_count": 24,
   "metadata": {},
   "outputs": [],
   "source": [
    "# Preparando os valores para plotagem\n",
    "resultados = {}\n",
    "nomes = results[1][1]\n",
    "for n in nomes:\n",
    "    resultados[n]=list()\n",
    "\n",
    "for values, names in results:\n",
    "    for n, v in zip(names, values):\n",
    "        resultados[n] += v.tolist()\n",
    "\n",
    "\n",
    "labels, data = [*zip(*resultados.items())]"
   ]
  },
  {
   "cell_type": "code",
   "execution_count": 25,
   "metadata": {},
   "outputs": [
    {
     "data": {
      "image/png": "[encoded data removed]",
      "text/plain": [
       "<Figure size 432x288 with 1 Axes>"
      ]
     },
     "metadata": {
      "needs_background": "light"
     },
     "output_type": "display_data"
    }
   ],
   "source": [
    "# Plotando.\n",
    "\n",
    "fig = plt.figure()\n",
    "fig.suptitle(\"Comparação Algoritmos\")\n",
    "ax = fig.add_subplot(111)\n",
    "plt.boxplot(data)\n",
    "ax.set_xticklabels(labels)\n",
    "plt.show()\n"
   ]
  },
  {
   "cell_type": "code",
   "execution_count": null,
   "metadata": {},
   "outputs": [],
   "source": []
  },
  {
   "cell_type": "code",
   "execution_count": null,
   "metadata": {},
   "outputs": [],
   "source": []
  }
 ],
 "metadata": {
  "kernelspec": {
   "display_name": "Python 3",
   "language": "python",
   "name": "python3"
  },
  "language_info": {
   "codemirror_mode": {
    "name": "ipython",
    "version": 3
   },
   "file_extension": ".py",
   "mimetype": "text/x-python",
   "name": "python",
   "nbconvert_exporter": "python",
   "pygments_lexer": "ipython3",
   "version": "3.7.1"
  }
 },
 "nbformat": 4,
 "nbformat_minor": 2
}
